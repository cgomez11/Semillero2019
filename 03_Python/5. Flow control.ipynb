{
 "cells": [
  {
   "cell_type": "markdown",
   "metadata": {},
   "source": [
    "# If conditional\n",
    "\n",
    "A classical of every Turing-complete programming language. On Python its defined using the following syntax: "
   ]
  },
  {
   "cell_type": "code",
   "execution_count": null,
   "metadata": {},
   "outputs": [],
   "source": [
    "def lesser_or_greater(x, y):\n",
    "    if x < y:\n",
    "        print(x, \"is lesser than\", y)\n",
    "    elif x > y:\n",
    "        print(x, \"is greater than\", y)\n",
    "    else:\n",
    "        print(x, \"and\", y, \"are equal\")"
   ]
  },
  {
   "cell_type": "markdown",
   "metadata": {},
   "source": [
    "If we invoke this function using different inputs, we can obtain different outputs:"
   ]
  },
  {
   "cell_type": "code",
   "execution_count": null,
   "metadata": {},
   "outputs": [],
   "source": [
    "lesser_or_greater(2, 5)"
   ]
  },
  {
   "cell_type": "code",
   "execution_count": null,
   "metadata": {},
   "outputs": [],
   "source": [
    "lesser_or_greater(100, 10)"
   ]
  },
  {
   "cell_type": "code",
   "execution_count": null,
   "metadata": {},
   "outputs": [],
   "source": [
    "lesser_or_greater(1, 1)"
   ]
  },
  {
   "cell_type": "markdown",
   "metadata": {},
   "source": [
    "Some of the important comparison operators are listed on the following table: \n",
    "\n",
    "| Operator | Assertion\n",
    "| -------- | ---------\n",
    "|   ==     | Equality\n",
    "|   !=     | Inequality        \n",
    "|   <      | Lesser than\n",
    "|   >      | Greater than\n",
    "|   <=     | Lesser or equal\n",
    "|   >=     | Greater or equal\n",
    "|   not    | Negate a boolean condition\n",
    "|   and    | Short-circuit AND between boolean operations\n",
    "|   or     | Short-circuit OR between boolean operations\n",
    "|   in     | Checks if an element is present inside an iterable\n",
    "|   is     | Verifies if an object is equal to another (Memory based)\n",
    "\n",
    "All operators are similar to those present on other programming languages, with exception of ``in``, ``is`` and ``not`` operators:"
   ]
  },
  {
   "cell_type": "code",
   "execution_count": null,
   "metadata": {},
   "outputs": [],
   "source": [
    "3 in [1, 2, 4]"
   ]
  },
  {
   "cell_type": "code",
   "execution_count": null,
   "metadata": {},
   "outputs": [],
   "source": [
    "3 in [1, 2, 3]"
   ]
  },
  {
   "cell_type": "code",
   "execution_count": null,
   "metadata": {},
   "outputs": [],
   "source": [
    "'a' in {'a':4, 'b':3}"
   ]
  },
  {
   "cell_type": "code",
   "execution_count": null,
   "metadata": {},
   "outputs": [],
   "source": [
    "3 in (25, 6)"
   ]
  },
  {
   "cell_type": "code",
   "execution_count": null,
   "metadata": {},
   "outputs": [],
   "source": [
    "not (2 == 5)"
   ]
  },
  {
   "cell_type": "code",
   "execution_count": null,
   "metadata": {},
   "outputs": [],
   "source": [
    "3 is None"
   ]
  },
  {
   "cell_type": "code",
   "execution_count": null,
   "metadata": {},
   "outputs": [],
   "source": [
    "4 is not None"
   ]
  },
  {
   "cell_type": "markdown",
   "metadata": {},
   "source": [
    "A través de estos ejemplos también podemos notar que los valores de verdad en Python se escriben como `True` y `False` para verdadero y falso, respectivamente."
   ]
  },
  {
   "cell_type": "markdown",
   "metadata": {},
   "source": [
    "## Problemas"
   ]
  },
  {
   "cell_type": "markdown",
   "metadata": {},
   "source": [
    "### Problema 1\n",
    "\n",
    "Definir una función `absoluto(x)` que tome un número `x` y retorne su valor absoluto, así:\n",
    "\n",
    "```python\n",
    "absoluto(100.22)\n",
    "100.22\n",
    "```\n",
    "\n",
    "```python\n",
    "absoluto(-18.7)\n",
    "18.7\n",
    "```"
   ]
  },
  {
   "cell_type": "code",
   "execution_count": null,
   "metadata": {},
   "outputs": [],
   "source": [
    "# Escribir la solución aquí\n"
   ]
  },
  {
   "cell_type": "markdown",
   "metadata": {},
   "source": [
    "### Problema 2\n",
    "\n",
    "Definir una función `es_divisible_entre_siete(x)` que imprima si un número es o no es divisible entre 7. La función debe *imprimir* resultados como los siguientes:\n",
    "\n",
    "```python\n",
    "es_divisible_entre_siete(12)\n",
    "'12 no es divisible entre 7'\n",
    "```\n",
    "\n",
    "```python\n",
    "es_divisible_entre_siete(14)\n",
    "'14 es divisible entre 7'\n",
    "```\n",
    "\n",
    "```python\n",
    "es_divisible_entre_siete(32)\n",
    "'32 no es divisible entre 7'\n",
    "```\n",
    "\n",
    "```python\n",
    "es_divisible_entre_siete(21)\n",
    "'21 es divisible entre 7'\n",
    "```\n",
    "\n",
    "**Nota**:\n",
    "\n",
    "Utilizar el operador módulo (`%`) para decidir si un número es múltiplo de otro. Este operador retorna el resto de la división entre dos números. Por tanto, si un número divide exactamente a otro, retorna `0`, sino retorna cualquier otro número. Veamos algunos ejemplos:\n",
    "\n",
    "```python\n",
    "12%4\n",
    "0\n",
    "```\n",
    "\n",
    "```python\n",
    "12%6\n",
    "0\n",
    "```\n",
    "\n",
    "```python\n",
    "12%5\n",
    "2\n",
    "```\n",
    "\n",
    "```python\n",
    "25%5\n",
    "0\n",
    "```\n",
    "\n",
    "```python\n",
    "25%6\n",
    "1\n",
    "```"
   ]
  },
  {
   "cell_type": "code",
   "execution_count": null,
   "metadata": {},
   "outputs": [],
   "source": [
    "# Escribir la solución aquí\n"
   ]
  },
  {
   "cell_type": "markdown",
   "metadata": {},
   "source": [
    "### Problema 3\n",
    "\n",
    "Generalizar la función anterior como una nueva función llamada `es_divisible_entre_n(x, n)` que tome dos números enteros e imprima si el primero es divisible entre el segundo, así: (Tomado de *Aprenda a pensar como un programador con Python*)\n",
    "\n",
    "```python\n",
    "es_divisible_entre_n(20, 4)\n",
    "'20 es divisible entre 4'\n",
    "```\n",
    "\n",
    "```python\n",
    "es_divisible_entre_n(36, 5)\n",
    "'36 no es divisible entre 5'\n",
    "```"
   ]
  },
  {
   "cell_type": "markdown",
   "metadata": {},
   "source": [
    "### Problema 4\n",
    "\n",
    "Definir una función `agregar_nuevo(li, x)` que reciba una lista y un elemento, y retorne una nueva lista en la que esté añadido el elemento, pero sólo si éste **no** hace parte de la lista original (Tomado de *Introducción a Mathematica* del Prof. Jurgen Tischer).\n",
    "\n",
    "Por ejemplo, algunos resultados de esta función son:\n",
    "\n",
    "```python\n",
    "agregar_nuevo([3,9,6], 11)\n",
    "[3, 9, 6, 11]\n",
    "```\n",
    "\n",
    "```python\n",
    "agregar_nuevo([3,9,6], 9)\n",
    "[3, 9, 6]\n",
    "```"
   ]
  },
  {
   "cell_type": "markdown",
   "metadata": {},
   "source": [
    "# For loop\n",
    "\n",
    "On Python, the ``for .. in `` syntax is used to iterate over elements of an iterable or generator object. Its syntax is more simple than that of C/C++ or Java. Instead of defining and increasing/decreasing an index variable, each iteration it returns the current object of the iterable sequence. \n",
    "\n",
    "**Note:** The sequence is looped in order of appeareance. \n",
    "\n",
    "Lets check some examples:"
   ]
  },
  {
   "cell_type": "code",
   "execution_count": null,
   "metadata": {},
   "outputs": [],
   "source": [
    "for x in [3, 9, 12, 4]:\n",
    "    print(x)"
   ]
  },
  {
   "cell_type": "code",
   "execution_count": null,
   "metadata": {},
   "outputs": [],
   "source": [
    "prefix = \"JKLMNOPQ\"\n",
    "suffix = \"ack\"\n",
    "for letter in prefix:\n",
    "    print(letter + suffix)"
   ]
  },
  {
   "cell_type": "code",
   "execution_count": null,
   "metadata": {},
   "outputs": [],
   "source": [
    "for i in range(10):\n",
    "    print(i**2)"
   ]
  },
  {
   "cell_type": "markdown",
   "metadata": {},
   "source": [
    "`range` alows to define an index list, to loop over a sequence by its indices, as was done previously on C/C++. It allows also to define sequences of numbers between two numbers (Non-inclusive) and sequences with skips, similar to the general slicing notation:\n",
    "\n",
    "**Nota**: Similar to ``zip``, ``dict.keys`` and ``dict.values``, ``range`` returns a generator object, which implies that slicing and indexing capabilities are not available"
   ]
  },
  {
   "cell_type": "code",
   "execution_count": null,
   "metadata": {},
   "outputs": [],
   "source": [
    "list(range(10))"
   ]
  },
  {
   "cell_type": "markdown",
   "metadata": {},
   "source": [
    "`range`: List between ``a`` and ``b - 1``:"
   ]
  },
  {
   "cell_type": "code",
   "execution_count": null,
   "metadata": {},
   "outputs": [],
   "source": [
    "list(range(1, 20))"
   ]
  },
  {
   "cell_type": "markdown",
   "metadata": {},
   "source": [
    "With skips of 3:"
   ]
  },
  {
   "cell_type": "code",
   "execution_count": null,
   "metadata": {},
   "outputs": [],
   "source": [
    "list(range(7, 25, 3))"
   ]
  },
  {
   "cell_type": "markdown",
   "metadata": {},
   "source": [
    "Iterable unpacking notation can also be used on a for loop, for example, ``enumerate`` function allows us to retrieve the current iterable object as well as its position:"
   ]
  },
  {
   "cell_type": "code",
   "execution_count": null,
   "metadata": {},
   "outputs": [],
   "source": [
    "for i, x in enumerate([2, 3, 4]):\n",
    "    print(i, x)\n"
   ]
  },
  {
   "cell_type": "code",
   "execution_count": null,
   "metadata": {},
   "outputs": [],
   "source": [
    "for i, (a, b) in enumerate([(2, 3), (3, 4)]):\n",
    "    print(i, a+b)"
   ]
  },
  {
   "cell_type": "code",
   "execution_count": null,
   "metadata": {},
   "outputs": [],
   "source": [
    "for a, b in zip([3, 4], [5, 6]):\n",
    "    print(a, b)"
   ]
  },
  {
   "cell_type": "markdown",
   "metadata": {},
   "source": [
    "## List/Dictionary Comprehensions\n",
    "Sometimes, we just may use a for loop to filter a list content or to create a dictionary based on other list. However, Python brings us an easy way of doing these kind of operations on a single line:"
   ]
  },
  {
   "cell_type": "code",
   "execution_count": null,
   "metadata": {},
   "outputs": [],
   "source": [
    "a = [x for x in range(0, 20) if x % 2 == 0]  # Get all even values between 0 and 19\n",
    "a"
   ]
  },
  {
   "cell_type": "code",
   "execution_count": null,
   "metadata": {},
   "outputs": [],
   "source": [
    "a = [x if x % 2 == 0 else 0 for x in range(0, 20)] # On odd indices put 0\n",
    "a"
   ]
  },
  {
   "cell_type": "markdown",
   "metadata": {},
   "source": [
    "We can also nest this notation:"
   ]
  },
  {
   "cell_type": "code",
   "execution_count": null,
   "metadata": {},
   "outputs": [],
   "source": [
    "a = [[0 for y in range(0, x)] for x in range(0, 5)]\n",
    "a"
   ]
  },
  {
   "cell_type": "markdown",
   "metadata": {},
   "source": [
    "We can apply a similar notation to create dictionaries:"
   ]
  },
  {
   "cell_type": "code",
   "execution_count": null,
   "metadata": {},
   "outputs": [],
   "source": [
    "d = {i:i+10 for i in range(0, 10)}\n",
    "d"
   ]
  },
  {
   "cell_type": "markdown",
   "metadata": {},
   "source": [
    "## Problemas"
   ]
  },
  {
   "cell_type": "markdown",
   "metadata": {},
   "source": [
    "### Problema 5\n",
    "\n",
    "Construir un ciclo ``for`` que imprima todos los números pares de 1 a 100."
   ]
  },
  {
   "cell_type": "code",
   "execution_count": null,
   "metadata": {},
   "outputs": [],
   "source": [
    "# Escribir la solución aquí\n"
   ]
  },
  {
   "cell_type": "markdown",
   "metadata": {},
   "source": [
    "### Problema 6\n",
    "\n",
    "Definir una función `es_primo` que tome un número `x` y verifique si es divisible entre todos los números menores a `x`. Si lo es, entonces debe retornar `False` y si no `True`. Por ejemplo:\n",
    "\n",
    "```python\n",
    "es_primo(10)\n",
    "False\n",
    "```\n",
    "\n",
    "```python\n",
    "es_primo(17)\n",
    "True\n",
    "```\n",
    "\n",
    "```python\n",
    "es_primo(15)\n",
    "False\n",
    "```\n",
    "\n",
    "```python\n",
    "es_primo(23)\n",
    "True\n",
    "```\n",
    "\n",
    "**Nota**:\n",
    "\n",
    "Modificar la función `es_divisible_entre_n` para que en lugar de imprimir oraciones, retorne `True` o `False`, y después utilizarla como parte del enunciado de la función `es_primo`."
   ]
  },
  {
   "cell_type": "code",
   "execution_count": null,
   "metadata": {},
   "outputs": [],
   "source": [
    "# Escribir la solución aquí\n"
   ]
  },
  {
   "cell_type": "markdown",
   "metadata": {},
   "source": [
    "### Problema 7\n",
    "\n",
    "Optimizar la función anterior, respondiendo a la siguiente pregunta: ¿Es necesario revisar todos los números menores a `x` para verificar si `x` es divisible entre todos ellos? ¿Hasta qué número es en realidad necesario revisar?\n",
    "\n",
    "Para ello, definir una nueva función `es_primo_veloz` y comparar los tiempos de ejecución entre ella y `es_primo` usando el comando `%timeit`, así:\n",
    "\n",
    "```python\n",
    "%timeit es_primo(600)\n",
    "```\n",
    "\n",
    "```ipython\n",
    "%timeit es_primo_veloz(600)\n",
    "```\n"
   ]
  },
  {
   "cell_type": "code",
   "execution_count": null,
   "metadata": {},
   "outputs": [],
   "source": [
    "# Escribir la solución aquí\n"
   ]
  },
  {
   "cell_type": "markdown",
   "metadata": {},
   "source": [
    "### Problema 8\n",
    "\n",
    "Definir una función `desv_est` que calcule la desviación estándar de una lista, usando la fórmula:\n",
    "\n",
    "$$s=\\sqrt{\\frac{\\sum_{i=1}^{n}\\left(x_{i}-\\bar{x}\\right)^{2}}{n-1}}$$\n",
    "\n",
    "donde $\\bar{x}$ es el promedio y $n$ es el número total de datos.\n",
    "\n",
    "Por ejemplo, la desviación estándar de la siguiente lista:"
   ]
  },
  {
   "cell_type": "code",
   "execution_count": null,
   "metadata": {},
   "outputs": [],
   "source": [
    "li = [48.38,  27.6 ,  32.46,  51.94,  47.43,  48.61,  34.38,  48.98,\\\n",
    "      48.86,  41.45,  56.55,  25.46,  27.03,  36.72,  48.03,  36.86,\\\n",
    "      42.58,  44.44,  56.12,  43.86,  44.42,  42.92,  41.43,  22.81,\\\n",
    "      36.55,  50.89,  29.93,  47.61,  63.91,  53.98,  42.64,  27.18,\\\n",
    "      29.93,  31.51]"
   ]
  },
  {
   "cell_type": "markdown",
   "metadata": {},
   "source": [
    "debe dar como resultado\n",
    "\n",
    "```python\n",
    "desv_est(li)\n",
    "10.193054313544058\n",
    "```"
   ]
  }
 ],
 "metadata": {
  "kernelspec": {
   "display_name": "Python 3",
   "language": "python",
   "name": "python3"
  },
  "language_info": {
   "codemirror_mode": {
    "name": "ipython",
    "version": 3
   },
   "file_extension": ".py",
   "mimetype": "text/x-python",
   "name": "python",
   "nbconvert_exporter": "python",
   "pygments_lexer": "ipython3",
   "version": "3.7.1"
  }
 },
 "nbformat": 4,
 "nbformat_minor": 1
}
