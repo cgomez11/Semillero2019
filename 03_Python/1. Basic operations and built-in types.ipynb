{
 "cells": [
  {
   "cell_type": "markdown",
   "metadata": {},
   "source": [
    "# 1. Basic Operations and Data Structures\n",
    "Unlike C/C++ and other programming languages, but like JS and MATLAB, Python is an untyped language, which means that you can assign values to variables without any type declarations. However, Python uses type definitions under the hood, which allow to perform conversions and also to know a variable's type.\n",
    "\n",
    "**Note:** By definition, every object on Python comes from a class."
   ]
  },
  {
   "cell_type": "markdown",
   "metadata": {},
   "source": [
    "## 1.1 Built-in types and classes\n",
    "The following are some of the most important types defined by default on Python:\n",
    "\n",
    "| Type | Description |\n",
    "| ---- | ----------- |\n",
    "| ``int`` | An integer number |\n",
    "| ``float`` | A Floating point number |\n",
    "| ``bool`` | A boolean value (True or False) |\n",
    "| ``str`` | A character string |\n",
    "| ``bytes`` | A raw byte sequence |\n",
    "| ``complex`` | A complex number $a + bj$|\n",
    "| ``list`` | A list of objects |\n",
    "| ``tuple`` | An inmutable and ordered sequence of objects | \n",
    "| ``dict`` | An associative array of objects (Key and value pairs) | \n",
    "| ``set`` | An unordered set of objects |\n",
    "\n",
    "Python also offers an additional set of built-in functions that can be called by default:\n",
    "\n",
    "| Func | Description |\n",
    "| ---- | ----------- |\n",
    "| ``abs(x)`` | Absolute value (norm) of an numeric/complex input |\n",
    "| ``sum(x)`` | Sums all values from an iterable object |\n",
    "| ``max(*args)`` | Maximum value of a sequence of input values |\n",
    "| ``min(*args)`` | Minimum value of a sequence of input values |\n",
    "| ``len(x)`` | Count the total number of objects inside an iterable object |\n",
    "| ``type(x)`` | Know a variable type |\n",
    "| ``isinstance(obj, class)`` | Know if object is of class ``obj`` |\n",
    "| ``bin(x)`` | Convert an integer into a binary string |\n",
    "| ``eval(str)`` | Evaluate a python instruction string and returns its result |\n",
    "| ``print(*args)`` | Print the ``str`` representation of a sequence of objects spaced by blank characters |\n",
    "\n",
    "Let's try them with some examples!"
   ]
  },
  {
   "cell_type": "code",
   "execution_count": 1,
   "metadata": {},
   "outputs": [
    {
     "name": "stdout",
     "output_type": "stream",
     "text": [
      "<class 'int'>\n",
      "<class 'int'>\n",
      "<class 'int'>\n"
     ]
    }
   ],
   "source": [
    "# Define an integer\n",
    "a = 1        # Decimal \n",
    "b = 0xa      # Hexadecimal\n",
    "c = 0b01001  # Binary\n",
    "\n",
    "print(type(a))\n",
    "print(type(b))\n",
    "print(type(c))"
   ]
  },
  {
   "cell_type": "code",
   "execution_count": 4,
   "metadata": {},
   "outputs": [
    {
     "name": "stdout",
     "output_type": "stream",
     "text": [
      "<class 'float'>\n",
      "<class 'float'>\n"
     ]
    }
   ],
   "source": [
    "# Define float variables\n",
    "a = 1.0\n",
    "b = 1.33333\n",
    "\n",
    "print(type(a))\n",
    "print(type(b))"
   ]
  },
  {
   "cell_type": "code",
   "execution_count": 5,
   "metadata": {},
   "outputs": [
    {
     "name": "stdout",
     "output_type": "stream",
     "text": [
      "<class 'bool'>\n",
      "<class 'bool'>\n"
     ]
    }
   ],
   "source": [
    "# Define boolean variables\n",
    "a = True\n",
    "b = False\n",
    "\n",
    "print(type(a))\n",
    "print(type(b))"
   ]
  },
  {
   "cell_type": "code",
   "execution_count": 6,
   "metadata": {},
   "outputs": [
    {
     "name": "stdout",
     "output_type": "stream",
     "text": [
      "<class 'str'>\n",
      "<class 'str'>\n"
     ]
    }
   ],
   "source": [
    "# String variables declaration\n",
    "a = \"This is an string\"\n",
    "b = 'This is also an string'\n",
    "\n",
    "print(type(a))\n",
    "print(type(b))"
   ]
  },
  {
   "cell_type": "code",
   "execution_count": 7,
   "metadata": {
    "scrolled": true
   },
   "outputs": [
    {
     "name": "stdout",
     "output_type": "stream",
     "text": [
      "<class 'complex'>\n"
     ]
    }
   ],
   "source": [
    "# complex numbers defintion\n",
    "a = 1 + 3j\n",
    "print(type(a))"
   ]
  },
  {
   "cell_type": "code",
   "execution_count": 8,
   "metadata": {},
   "outputs": [
    {
     "name": "stdout",
     "output_type": "stream",
     "text": [
      "3\n",
      "5.0\n"
     ]
    }
   ],
   "source": [
    "# Absolute value\n",
    "print(abs(-3))\n",
    "print(abs(-3 + 4j))"
   ]
  },
  {
   "cell_type": "code",
   "execution_count": 9,
   "metadata": {},
   "outputs": [
    {
     "name": "stdout",
     "output_type": "stream",
     "text": [
      "-3\n",
      "3\n"
     ]
    }
   ],
   "source": [
    "# Max and min operations\n",
    "print(min(-3, 0))\n",
    "print(max(0, 3))"
   ]
  },
  {
   "cell_type": "code",
   "execution_count": 10,
   "metadata": {},
   "outputs": [
    {
     "name": "stdout",
     "output_type": "stream",
     "text": [
      "3\n"
     ]
    }
   ],
   "source": [
    "# get a character string length\n",
    "print(len('123'))"
   ]
  },
  {
   "cell_type": "code",
   "execution_count": 11,
   "metadata": {},
   "outputs": [
    {
     "name": "stdout",
     "output_type": "stream",
     "text": [
      "True\n"
     ]
    },
    {
     "data": {
      "text/plain": [
       "False"
      ]
     },
     "execution_count": 11,
     "metadata": {},
     "output_type": "execute_result"
    }
   ],
   "source": [
    "# isinstance\n",
    "print(isinstance(9 - 4j, complex))\n",
    "\n",
    "a = False\n",
    "isinstance(a, float)"
   ]
  },
  {
   "cell_type": "code",
   "execution_count": 12,
   "metadata": {},
   "outputs": [
    {
     "name": "stdout",
     "output_type": "stream",
     "text": [
      "0b11111111\n"
     ]
    }
   ],
   "source": [
    "# Print the binary representation of a number\n",
    "print(bin(255))"
   ]
  },
  {
   "cell_type": "code",
   "execution_count": 13,
   "metadata": {},
   "outputs": [
    {
     "name": "stdout",
     "output_type": "stream",
     "text": [
      "True\n"
     ]
    }
   ],
   "source": [
    "# execute an string as python code (Warning!)\n",
    "print(eval('isinstance((3*4) + 7 - 1j, complex)'))"
   ]
  },
  {
   "cell_type": "markdown",
   "metadata": {},
   "source": [
    "\n",
    "## 1.2 Numeric Operations\n",
    "The following operations can be done over numeric types, _i.e.,_ ``int``, ``float`` or ``complex``\n",
    "\n",
    "| Operation | Meaning       |\n",
    "| --------- | --------------- |\n",
    "|    +      | Sum            |\n",
    "|    -      | Subtraction           |\n",
    "|    *      | Product  |\n",
    "|    /      | Division        |\n",
    "|    //     | Integer Division |\n",
    "|    \\*\\*   | Power        |\n",
    "| ^ | Bitwise XOR |\n",
    "| &#124; | Bitwise OR |\n",
    "| & | Bitwise AND |\n",
    "| << | Left bit shift |\n",
    "| >> | Right bit shift |\n",
    "\n",
    "For example, the following operations can be done:"
   ]
  },
  {
   "cell_type": "code",
   "execution_count": 14,
   "metadata": {},
   "outputs": [
    {
     "data": {
      "text/plain": [
       "0.6666666666666666"
      ]
     },
     "execution_count": 14,
     "metadata": {},
     "output_type": "execute_result"
    }
   ],
   "source": [
    "2/3"
   ]
  },
  {
   "cell_type": "code",
   "execution_count": 15,
   "metadata": {},
   "outputs": [
    {
     "data": {
      "text/plain": [
       "0"
      ]
     },
     "execution_count": 15,
     "metadata": {},
     "output_type": "execute_result"
    }
   ],
   "source": [
    "2//3"
   ]
  },
  {
   "cell_type": "code",
   "execution_count": 16,
   "metadata": {},
   "outputs": [
    {
     "data": {
      "text/plain": [
       "8"
      ]
     },
     "execution_count": 16,
     "metadata": {},
     "output_type": "execute_result"
    }
   ],
   "source": [
    "2**3"
   ]
  },
  {
   "cell_type": "code",
   "execution_count": 17,
   "metadata": {},
   "outputs": [
    {
     "data": {
      "text/plain": [
       "6"
      ]
     },
     "execution_count": 17,
     "metadata": {},
     "output_type": "execute_result"
    }
   ],
   "source": [
    "2*3"
   ]
  },
  {
   "cell_type": "code",
   "execution_count": 18,
   "metadata": {},
   "outputs": [
    {
     "data": {
      "text/plain": [
       "-1"
      ]
     },
     "execution_count": 18,
     "metadata": {},
     "output_type": "execute_result"
    }
   ],
   "source": [
    "2 - 3"
   ]
  },
  {
   "cell_type": "code",
   "execution_count": 19,
   "metadata": {},
   "outputs": [
    {
     "data": {
      "text/plain": [
       "5"
      ]
     },
     "execution_count": 19,
     "metadata": {},
     "output_type": "execute_result"
    }
   ],
   "source": [
    "2 + 3"
   ]
  },
  {
   "cell_type": "code",
   "execution_count": 20,
   "metadata": {},
   "outputs": [
    {
     "data": {
      "text/plain": [
       "4"
      ]
     },
     "execution_count": 20,
     "metadata": {},
     "output_type": "execute_result"
    }
   ],
   "source": [
    "7 ^ 3"
   ]
  },
  {
   "cell_type": "code",
   "execution_count": 21,
   "metadata": {},
   "outputs": [
    {
     "data": {
      "text/plain": [
       "7"
      ]
     },
     "execution_count": 21,
     "metadata": {},
     "output_type": "execute_result"
    }
   ],
   "source": [
    "4 | 3"
   ]
  },
  {
   "cell_type": "code",
   "execution_count": 22,
   "metadata": {},
   "outputs": [
    {
     "data": {
      "text/plain": [
       "0"
      ]
     },
     "execution_count": 22,
     "metadata": {},
     "output_type": "execute_result"
    }
   ],
   "source": [
    "12 & 3"
   ]
  },
  {
   "cell_type": "code",
   "execution_count": 28,
   "metadata": {},
   "outputs": [
    {
     "data": {
      "text/plain": [
       "16"
      ]
     },
     "execution_count": 28,
     "metadata": {},
     "output_type": "execute_result"
    }
   ],
   "source": [
    "4 << 2"
   ]
  },
  {
   "cell_type": "code",
   "execution_count": 29,
   "metadata": {},
   "outputs": [
    {
     "data": {
      "text/plain": [
       "1"
      ]
     },
     "execution_count": 29,
     "metadata": {},
     "output_type": "execute_result"
    }
   ],
   "source": [
    "4 >> 2"
   ]
  },
  {
   "cell_type": "code",
   "execution_count": 36,
   "metadata": {},
   "outputs": [
    {
     "name": "stdout",
     "output_type": "stream",
     "text": [
      "0b1\n",
      "0b10\n",
      "0b100\n",
      "0b10000\n"
     ]
    }
   ],
   "source": [
    "print(bin(1))\n",
    "print(bin(2))\n",
    "print(bin(4))\n",
    "print(bin(16))"
   ]
  }
 ],
 "metadata": {
  "kernelspec": {
   "display_name": "Python 3",
   "language": "python",
   "name": "python3"
  },
  "language_info": {
   "codemirror_mode": {
    "name": "ipython",
    "version": 3
   },
   "file_extension": ".py",
   "mimetype": "text/x-python",
   "name": "python",
   "nbconvert_exporter": "python",
   "pygments_lexer": "ipython3",
   "version": "3.7.1"
  }
 },
 "nbformat": 4,
 "nbformat_minor": 2
}
