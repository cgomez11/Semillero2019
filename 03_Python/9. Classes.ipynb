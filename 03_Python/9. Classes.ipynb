{
 "cells": [
  {
   "cell_type": "markdown",
   "metadata": {},
   "source": [
    "# Clases\n",
    "\n",
    "Python es un muy buen lenguaje orientado a objetos (como Java), por lo que en él es muy sencillo definir y trabajar con clases. En las secciones anteriores hemos tenido la oportunidad de utilizar los métodos de cadenas y listas para resolver varios problemas, lo que indica que, en su implementación, ambos tipos son clases, cosa que también es cierta para los demás (aún los números son clases!).\n",
    "\n",
    "En esta sección veremos como definir nuestras propias clases y vamos a aprender cómo asociarle sus correspondientes atributos y métodos."
   ]
  },
  {
   "cell_type": "markdown",
   "metadata": {},
   "source": [
    "## Definición e inicialización\n",
    "\n",
    "En general, una clase es un objeto en el que se reúnen varias funciones (llamadas métodos) y variables (llamadas atributos), con el objeto de que los métodos puedan compartir un mismo conjunto de datos, sobre el que puedan operar de cierta forma para llegar al resultado que desea el programador.\n",
    "\n",
    "En Python las clases se definen con la palabra `class` y se inicializan usando el método ``__init__``, que es una función cuyo primer argumento **siempre** debe ser la palabra `self`. Los argumentos que vengan después de `self` van a usarse para darle valores iniciales a los atributos de la clase.\n",
    "\n",
    "Miremos cómo se hace con un ejemplo:"
   ]
  },
  {
   "cell_type": "code",
   "execution_count": null,
   "metadata": {},
   "outputs": [],
   "source": [
    "class NumeroComplejo:\n",
    "    def __init__(self, real, img):\n",
    "        self.real = real\n",
    "        self.img = img"
   ]
  },
  {
   "cell_type": "markdown",
   "metadata": {},
   "source": [
    "Como se infiere de su nombre, esta clase se ha definido para representar números complejos, por lo que debe tener dos atributos: una parte real y una parte imaginaria. En este caso, éstos están dados por `real` e `img`, respectivamente.\n",
    "\n",
    "----\n",
    "\n",
    "**Nota**:\n",
    "\n",
    "Es muy importante notar que para diferenciar los atributos de una clase de las variables locales del método, en Python todo atributo debe ir precedido de `self.`, como en `self.real` y `self.img`.\n",
    "\n",
    "----\n",
    "\n",
    "Además de `self`, podemos ver que `__init__` recibe los argumentos `real` e `img`, que se utilizan para inicializar los atributos mencionados.\n",
    "\n",
    "Para crear una instancia de la clase es necesario llamarla por su nombre, con el número de argumentos declarados en `__init__` (sin contar `self`) y asignársela a una variable, así:"
   ]
  },
  {
   "cell_type": "code",
   "execution_count": null,
   "metadata": {},
   "outputs": [],
   "source": [
    "z = NumeroComplejo(1, 2)"
   ]
  },
  {
   "cell_type": "markdown",
   "metadata": {},
   "source": [
    "Para comprobar que la inicialización ha funcionado correctamente, podemos inspeccionar los atributos de la clase directamente:"
   ]
  },
  {
   "cell_type": "code",
   "execution_count": null,
   "metadata": {},
   "outputs": [],
   "source": [
    "z.real"
   ]
  },
  {
   "cell_type": "code",
   "execution_count": null,
   "metadata": {},
   "outputs": [],
   "source": [
    "z.img"
   ]
  },
  {
   "cell_type": "markdown",
   "metadata": {},
   "source": [
    "De esta forma puede certificarse que, efectivamente, `z` es un número complejo con parte real `1` y parte imaginaria `2`.\n",
    "\n",
    "Una vez definida una instancia, también es posible modificar sus atributos por medio de asignación, así:"
   ]
  },
  {
   "cell_type": "code",
   "execution_count": null,
   "metadata": {},
   "outputs": [],
   "source": [
    "z.real = 5"
   ]
  },
  {
   "cell_type": "code",
   "execution_count": null,
   "metadata": {},
   "outputs": [],
   "source": [
    "z.real"
   ]
  },
  {
   "cell_type": "markdown",
   "metadata": {},
   "source": [
    "## Métodos\n",
    "\n",
    "Como ya dijimos, los métodos son funciones asociadas a una clase que operan sobre sus atributos. Por ejemplo, a la clase anterior le podemos añadir un método que calcule el módulo de un número complejo con la fórmula:\n",
    "\n",
    "$$\\left| z \\right|=\\sqrt{\\textrm{Re}\\left(z\\right)^{2}+\\textrm{Im}\\left(z\\right)^{2}}$$\n",
    "\n",
    "Para ello redefinimos `NumeroComplejo` para agregarle un nuevo método `modulo`, así:"
   ]
  },
  {
   "cell_type": "code",
   "execution_count": null,
   "metadata": {},
   "outputs": [],
   "source": [
    "class NumeroComplejo:\n",
    "    def __init__(self, real, img):\n",
    "        self.real = real\n",
    "        self.img = img\n",
    "\n",
    "    def modulo(self):\n",
    "        return (self.real**2 + self.img**2)**(1/2)"
   ]
  },
  {
   "cell_type": "markdown",
   "metadata": {},
   "source": [
    "**Nota**:\n",
    "\n",
    "Al igual que para `__init__`, el primer argumento de todo método debe ser `self`, para indicar que hace parte de la clase."
   ]
  },
  {
   "cell_type": "markdown",
   "metadata": {},
   "source": [
    "Con esta nueva definición obtenemos el siguiente resultado para el módulo del número complejo definido a continuación:"
   ]
  },
  {
   "cell_type": "code",
   "execution_count": null,
   "metadata": {},
   "outputs": [],
   "source": [
    "z = NumeroComplejo(1, 2)"
   ]
  },
  {
   "cell_type": "code",
   "execution_count": null,
   "metadata": {},
   "outputs": [],
   "source": [
    "z.modulo()"
   ]
  },
  {
   "cell_type": "markdown",
   "metadata": {},
   "source": [
    "Aquí puede parecer un poco extraño que `modulo` se llame sin argumentos, cuando al definirlo en la clase se le había pasado a `self` como primer argumento. Esto se debe a que `self` no es un argumento en sí, sino que sólo se usa para señalar que una función es un método de la clase, como ya se mencionó.\n",
    "\n",
    "Otra operación que puede hacerse con números complejos es obtener su *conjugado*. El conjugado de un complejo $z$, es un nuevo número complejo que se denota $\\bar{z}$ y se define como\n",
    "\n",
    "$$z=a+ib \\longrightarrow \\bar{z}=a-ib$$\n",
    "\n",
    "Para obtener el conjugado podemos entonces agregar un nuevo método a nuestra clase, de la siguiente forma:"
   ]
  },
  {
   "cell_type": "code",
   "execution_count": null,
   "metadata": {},
   "outputs": [],
   "source": [
    "class NumeroComplejo(object):\n",
    "    def __init__(self, real, img):\n",
    "        self.real = real\n",
    "        self.img = img\n",
    "\n",
    "    def modulo(self):\n",
    "        return (self.real**2 + self.img**2)**(1/2)\n",
    "\n",
    "    def conjugado(self):\n",
    "        return NumeroComplejo(self.real, -self.img)"
   ]
  },
  {
   "cell_type": "markdown",
   "metadata": {},
   "source": [
    "Para calcular el conjugado de un número complejo `z`, sólo debemos llamar el método correspondiente y asignáserlo a una nueva variable `z1` (en caso de que deseemos usarlo más tarde):"
   ]
  },
  {
   "cell_type": "code",
   "execution_count": null,
   "metadata": {},
   "outputs": [],
   "source": [
    "z = NumeroComplejo(1, 2)"
   ]
  },
  {
   "cell_type": "code",
   "execution_count": null,
   "metadata": {},
   "outputs": [],
   "source": [
    "z1 = z.conjugado()"
   ]
  },
  {
   "cell_type": "code",
   "execution_count": null,
   "metadata": {},
   "outputs": [],
   "source": [
    "z1.real"
   ]
  },
  {
   "cell_type": "code",
   "execution_count": null,
   "metadata": {},
   "outputs": [],
   "source": [
    "z1.img"
   ]
  },
  {
   "cell_type": "markdown",
   "metadata": {},
   "source": [
    "Finalmente, vamos a añadir un método que retorne el producto de dos números complejos. Dados dos números\n",
    "\n",
    "$$\n",
    "z = a + ib \\\\\n",
    "w = c + id\n",
    "$$\n",
    "\n",
    "su producto está dado por:\n",
    "\n",
    "$$z \\times w = (ac - bd) + i(ad + bc)$$\n",
    "\n",
    "Para ello podemos escribir el siguiente método, llamado `producto`, en nuestra clase:"
   ]
  },
  {
   "cell_type": "code",
   "execution_count": null,
   "metadata": {},
   "outputs": [],
   "source": [
    "class NumeroComplejo(object):\n",
    "    def __init__(self, real, img):\n",
    "        self.real = real\n",
    "        self.img = img\n",
    "\n",
    "    def modulo(self):\n",
    "        return (self.real**2 + self.img**2)**(1/2)\n",
    "\n",
    "    def conjugado(self):\n",
    "        return NumeroComplejo(self.real, -self.img)\n",
    "\n",
    "    def producto(self, w):\n",
    "        real = self.real * w.real - self.img * w.img\n",
    "        img = self.real * w.img + self.img * w.real\n",
    "        return NumeroComplejo(real, img)"
   ]
  },
  {
   "cell_type": "code",
   "execution_count": null,
   "metadata": {},
   "outputs": [],
   "source": [
    "z = NumeroComplejo(1, 2)\n",
    "w = NumeroComplejo(4, -7)"
   ]
  },
  {
   "cell_type": "code",
   "execution_count": null,
   "metadata": {},
   "outputs": [],
   "source": [
    "x = z.producto(w)"
   ]
  },
  {
   "cell_type": "code",
   "execution_count": null,
   "metadata": {},
   "outputs": [],
   "source": [
    "x.real"
   ]
  },
  {
   "cell_type": "code",
   "execution_count": null,
   "metadata": {},
   "outputs": [],
   "source": [
    "x.img"
   ]
  },
  {
   "cell_type": "markdown",
   "metadata": {},
   "source": [
    "Para comprobar que `producto` está funcionando correctamente podemos usar la siguiente fórmula, que relaciona el módulo de un número complejo con su conjugado:\n",
    "\n",
    "$$\\left| z \\right| = \\sqrt{\\textrm{Re} \\left( z \\times \\bar{z} \\right)}$$"
   ]
  },
  {
   "cell_type": "code",
   "execution_count": null,
   "metadata": {},
   "outputs": [],
   "source": [
    "z2 = z.producto(z.conjugado())"
   ]
  },
  {
   "cell_type": "code",
   "execution_count": null,
   "metadata": {},
   "outputs": [],
   "source": [
    "(z2.real)**(1/2) == z.modulo()"
   ]
  },
  {
   "cell_type": "markdown",
   "metadata": {},
   "source": [
    "## Herencia"
   ]
  },
  {
   "cell_type": "markdown",
   "metadata": {},
   "source": [
    "Uno de los conceptos fundamentales en la programación orientada a objetos es la Herencia, según la cuál una clase puede heredar los atributos y métodos de otra clase, con el fin de extender la funcionalidad de la misma. Si bien, en otros lenguajes de programación netamente orientados a objetos como Java, se definen palabras reservadas para especificar la herencia tal como ``extends``, la herencia en Python se establece en la definición de la clase.\n",
    "\n",
    "A continuación se presenta un ejemplo de herencia entre clases:"
   ]
  },
  {
   "cell_type": "code",
   "execution_count": null,
   "metadata": {},
   "outputs": [],
   "source": [
    "class Vehiculo:\n",
    "    def __init__(self, marca, serie, modelo, posicion, capacidad_personas):\n",
    "        self.marca = marca\n",
    "        self.serie = serie\n",
    "        self.modelo = modelo\n",
    "        self.posicion = posicion\n",
    "        self.capacidad_personas = capacidad_personas\n",
    "        self.ocupacion = 0\n",
    "    \n",
    "    def mover_posicion(self, nueva_posicion):\n",
    "        self.posicion = nueva_posicion\n",
    "    \n",
    "    def aumentar_ocupacion(self):\n",
    "        self.ocupacion = min(self.capacidad_personas, self.ocupacion + 1)\n",
    "        \n",
    "    def disminuir_ocupacion(self):\n",
    "        self.ocupacion = max(self.ocupacion, 0)"
   ]
  },
  {
   "cell_type": "markdown",
   "metadata": {},
   "source": [
    "En este caso, se presenta una clase base ``Vehículo``, la cual describe objetos que tienen una posición, un número máximo de pasajeros y una ocupación determinada. A partir de esta clase es posible definir y especializar otro tipo de clases de Vehículos, tales como Vehículos a Gasolina y Vehículos Eléctricos:"
   ]
  },
  {
   "cell_type": "code",
   "execution_count": null,
   "metadata": {},
   "outputs": [],
   "source": [
    "class VehiculoGasolina(Vehiculo): # Se define la herencia con respecto a la clase Vehículo\n",
    "    def __init__(self, marca, serie, posicion, capacidad_personas, capacidad_tanque,\n",
    "                 cilindraje, modelo=2017):\n",
    "        # Se invoca el constructor de la clase base, para inicializar los atributos\n",
    "        # la misma.\n",
    "        Vehiculo.__init__(self, marca, serie, modelo, posicion, capacidad_personas)\n",
    "        self.capacidad_tanque = capacidad_tanque\n",
    "        self.cilindraje = cilindraje\n",
    "        self.tanque = capacidad_tanque\n",
    "        \n",
    "    def mover_posicion(self, nueva_posicion): # Reimplementación del método de la superclase\n",
    "        if self.tanque > 0:\n",
    "            self.tanque -= 1\n",
    "            self.posicion = nueva_posicion\n",
    "        else:\n",
    "            print(\"El tanque está vacío\")\n",
    "            \n",
    "    def tanquear(self, cantidad):\n",
    "        self.tanque = min(cantidad, self.capacidad_tanque)"
   ]
  },
  {
   "cell_type": "code",
   "execution_count": null,
   "metadata": {},
   "outputs": [],
   "source": [
    "class VehiculoElectrico(Vehiculo):\n",
    "    def __init__(self, marca, serie, posicion, capacidad_personas,\n",
    "                 capacidad_bateria, modelo=2017):\n",
    "        Vehiculo.__init__(self, marca, serie, modelo, posicion, capacidad_personas)\n",
    "        self.capacidad_bateria = capacidad_bateria\n",
    "        self.carga_bateria = capacidad_bateria\n",
    "    \n",
    "    def mover_posicion(self, nueva_posicion):\n",
    "        if self.carga_bateria > 0:\n",
    "            self.carga_bateria *= 0.01\n",
    "            self.posicion = nueva_posicion\n",
    "        else:\n",
    "            print(\"La batería está descargada!\")\n",
    "    \n",
    "    def cargar_bateria(self, tiempo):\n",
    "        self.carga_bateria = min(tiempo * 0.01, self.capacidad_bateria)\n"
   ]
  },
  {
   "cell_type": "markdown",
   "metadata": {},
   "source": [
    "Es posible comprobar que las instancias de ``VehiculoGasolina`` y ``VehiculoElectrico`` comparten los mismos atributos y métodos heredados de la clase base ``Vehiculo``:"
   ]
  },
  {
   "cell_type": "code",
   "execution_count": null,
   "metadata": {},
   "outputs": [],
   "source": [
    "carro_gasolina = VehiculoGasolina('Audi', 'TT', (0, 0), 2, 50, 2006)\n",
    "carro_gasolina.marca"
   ]
  },
  {
   "cell_type": "code",
   "execution_count": null,
   "metadata": {},
   "outputs": [],
   "source": [
    "carro_electrico = VehiculoElectrico('Renault', 'Twizy', (2, 3), 2, 6.1, 2016)\n",
    "carro_electrico.marca"
   ]
  },
  {
   "cell_type": "code",
   "execution_count": null,
   "metadata": {},
   "outputs": [],
   "source": [
    "isinstance(carro_gasolina, Vehiculo) and isinstance(carro_electrico, Vehiculo)"
   ]
  },
  {
   "cell_type": "code",
   "execution_count": null,
   "metadata": {},
   "outputs": [],
   "source": [
    "carro_gasolina.aumentar_ocupacion()\n",
    "carro_gasolina.ocupacion"
   ]
  },
  {
   "cell_type": "code",
   "execution_count": null,
   "metadata": {},
   "outputs": [],
   "source": [
    "carro_electrico.aumentar_ocupacion()\n",
    "carro_electrico.ocupacion"
   ]
  },
  {
   "cell_type": "markdown",
   "metadata": {},
   "source": [
    "Sin embargo, cada uno cuenta con métodos diferentes:"
   ]
  },
  {
   "cell_type": "code",
   "execution_count": null,
   "metadata": {},
   "outputs": [],
   "source": [
    "print(carro_gasolina.tanquear)"
   ]
  },
  {
   "cell_type": "code",
   "execution_count": null,
   "metadata": {},
   "outputs": [],
   "source": [
    "print(carro_electrico.cargar_bateria)"
   ]
  },
  {
   "cell_type": "markdown",
   "metadata": {},
   "source": [
    "## Sobrecarga de operadores\n",
    "En ocasiones implementar métodos de comparación, indexación o \"slicing\" puede resultar incómodo en la medida que cada vez que se desea invocar cada uno, es necesario conocer su nombre específico, lo cual puede causar problemas si este es modificado en algún momento. Así mismo, resulta más transparente hacer uso de la notación ofrecida en Python para realizar las operaciones planteadas previamente. Para este fin, en una clase es posible \"sobrecargar\" diferentes funciones *built-in* y operaciones básicas a través de métodos especiales definidos en la especificación de clases de Python.\n",
    "\n",
    "Por ejemplo, supongamos que tenemos una biblioteca que contiene una colección de libros. Sin embargo, esta tiene más información, por ejemplo, acerca del material y las dimensiones de la misma. Ahora bien, deseamos que la implementación de esta clase pueda acceder a operaciones de slicing e indexamiento convencionales de una lista. Como es posible observar a continuación, una clase por defecto no cuenta con estas propiedades."
   ]
  },
  {
   "cell_type": "code",
   "execution_count": null,
   "metadata": {},
   "outputs": [],
   "source": [
    "class Library:\n",
    "    def __init__(self, height, width, depth, material):\n",
    "        self.height = height\n",
    "        self.width = width\n",
    "        self.depth = depth\n",
    "        self.material = material\n",
    "        self.books = [{'title': 'A book'}]\n",
    "\n",
    "l = Library(30, 35, 45, 'Oak')\n",
    "l[0] # Queremos acceder al primer libro"
   ]
  },
  {
   "cell_type": "markdown",
   "metadata": {},
   "source": [
    "Con el fin de habilitar el indexamiento de libros en la biblioteca, es posible reimplementar el método ``__getitem__(self, key)``, el cual permite recuperar un elemento usando un índice:"
   ]
  },
  {
   "cell_type": "code",
   "execution_count": null,
   "metadata": {},
   "outputs": [],
   "source": [
    "class Library:\n",
    "    def __init__(self, height, width, depth, material):\n",
    "        self.height = height\n",
    "        self.width = width\n",
    "        self.depth = depth\n",
    "        self.material = material\n",
    "        self.books = [{'title': 'A book'}]\n",
    "\n",
    "    def __getitem__(self, key):\n",
    "        return self.books[key]\n",
    "    \n",
    "l = Library(30, 35, 45, 'Oak')\n",
    "l[0]"
   ]
  },
  {
   "cell_type": "markdown",
   "metadata": {},
   "source": [
    "Como es posible observar, es posible indexar un objeto de clase Library usando la notación estándar definida en Python. También es posible reimplementar llamados de funciones convencionales, tales como ``len`` o ``str``:"
   ]
  },
  {
   "cell_type": "code",
   "execution_count": null,
   "metadata": {},
   "outputs": [],
   "source": [
    "class Library:\n",
    "    def __init__(self, height, width, depth, material):\n",
    "        self.height = height\n",
    "        self.width = width\n",
    "        self.depth = depth\n",
    "        self.material = material\n",
    "        self.books = [{'title': 'A book'}]\n",
    "\n",
    "    def __getitem__(self, key):\n",
    "        return self.books[key]\n",
    "    \n",
    "    def __len__(self):\n",
    "        return len(self.books)\n",
    "    \n",
    "    def __str__(self):\n",
    "        return 'Library ({3}): ({0}, {1}, {2}) - Books: {4}'.format(self.height, self.width, self.depth,\n",
    "                                                                    self.material, len(self.books))\n",
    "    \n",
    "l = Library(30, 35, 45, 'Oak')\n",
    "print(l[0])\n",
    "print(len(l))\n",
    "print(l)"
   ]
  },
  {
   "cell_type": "markdown",
   "metadata": {},
   "source": [
    "La especificación de clases de Python permite sobrecargar otras funciones comunes y operadores.\n",
    "\n",
    "**Para obtener mayor información, visitar:** https://docs.python.org/3/library/operator.html y https://docs.python.org/3/reference/datamodel.html"
   ]
  }
 ],
 "metadata": {
  "kernelspec": {
   "display_name": "Python 3",
   "language": "python",
   "name": "python3"
  },
  "language_info": {
   "codemirror_mode": {
    "name": "ipython",
    "version": 3
   },
   "file_extension": ".py",
   "mimetype": "text/x-python",
   "name": "python",
   "nbconvert_exporter": "python",
   "pygments_lexer": "ipython3",
   "version": "3.7.1"
  }
 },
 "nbformat": 4,
 "nbformat_minor": 1
}
